{
 "cells": [
  {
   "cell_type": "markdown",
   "metadata": {
    "deletable": false,
    "editable": false,
    "nbgrader": {
     "checksum": "745a20891c1e4fd4345c95d655671445",
     "grade": false,
     "grade_id": "cell-d7919cfd6f43af80",
     "locked": true,
     "schema_version": 1,
     "solution": false
    }
   },
   "source": [
    "<h2>About this Project</h2>\n",
    "\n",
    "<p>In this project, you will implement a simple multilayer perceptron for a regression problem.</p>\n",
    "\n",
    "<h3>Evaluation</h3>\n",
    "\n",
    "<p><strong>This project must be successfully completed and submitted in order to receive credit for this course. Your score on this project will be included in your final grade calculation.</strong><p>\n",
    "    \n",
    "<p>You are expected to write code where you see <em># YOUR CODE HERE</em> within the cells of this notebook. Not all cells will be graded; code input cells followed by cells marked with <em>#Autograder test cell</em> will be graded. Upon submitting your work, the code you write at these designated positions will be assessed using an \"autograder\" that will run all test cells to assess your code. You will receive feedback from the autograder that will identify any errors in your code. Use this feedback to improve your code if you need to resubmit. Be sure not to change the names of any provided functions, classes, or variables within the existing code cells, as this will interfere with the autograder. Also, remember to execute all code cells sequentially, not just those you’ve edited, to ensure your code runs properly.</p>\n",
    "    \n",
    "<p>You can resubmit your work as many times as necessary before the submission deadline. If you experience difficulty or have questions about this exercise, use the Q&A discussion board to engage with your peers or seek assistance from the instructor.<p>\n",
    "\n",
    "<p>Before starting your work, please review <a href=\"https://s3.amazonaws.com/ecornell/global/eCornellPlagiarismPolicy.pdf\">eCornell's policy regarding plagiarism</a> (the presentation of someone else's work as your own without source credit).</p>\n",
    "\n",
    "<h3>Submit Code for Autograder Feedback</h3>\n",
    "\n",
    "<p>Once you have completed your work on this notebook, you will submit your code for autograder review. Follow these steps:</p>\n",
    "\n",
    "<ol>\n",
    "  <li><strong>Save your notebook.</strong></li>\n",
    "  <li><strong>Mark as Completed —</strong> In the blue menu bar along the top of this code exercise window, you’ll see a menu item called <strong>Education</strong>. In the <strong>Education</strong> menu, click <strong>Mark as Completed</strong> to submit your code for autograder/instructor review. This process will take a moment and a progress bar will show you the status of your submission.</li>\n",
    "\t<li><strong>Review your results —</strong> Once your work is marked as complete, the results of the autograder will automatically be presented in a new tab within the code exercise window. You can click on the assessment name in this feedback window to see more details regarding specific feedback/errors in your code submission.</li>\n",
    "  <li><strong>Repeat, if necessary —</strong> The Jupyter notebook will always remain accessible in the first tabbed window of the exercise. To reattempt the work, you will first need to click <strong>Mark as Uncompleted</strong> in the <strong>Education</strong> menu and then proceed to make edits to the notebook. Once you are ready to resubmit, follow steps one through three. You can repeat this procedure as many times as necessary.</li>\n",
    "    \n",
    "<p>You can also download a copy of this notebook in multiple formats using the <strong>Download as</strong> option in the <strong>File</strong> menu above.</p>"
   ]
  },
  {
   "cell_type": "markdown",
   "metadata": {
    "deletable": false,
    "editable": false,
    "nbgrader": {
     "checksum": "32cd6c3c6de131abec8400cf824d1078",
     "grade": false,
     "grade_id": "cell-f4aa658bec5fe94f",
     "locked": true,
     "schema_version": 1,
     "solution": false
    }
   },
   "source": [
    "<h2>Getting Started</h2>\n",
    "<h3>Python Initialization</h3> \n",
    "\n",
    "Please run the following code to initialize your Python kernel. You should be running a version of Python 3.x. </p>"
   ]
  },
  {
   "cell_type": "code",
   "execution_count": 1,
   "metadata": {},
   "outputs": [],
   "source": [
    "%load_ext autoreload"
   ]
  },
  {
   "cell_type": "code",
   "execution_count": 2,
   "metadata": {},
   "outputs": [
    {
     "name": "stdout",
     "output_type": "stream",
     "text": [
      "You're running python 3.6.8\n"
     ]
    }
   ],
   "source": [
    "%autoreload 2\n",
    "import numpy as np\n",
    "from numpy.matlib import repmat\n",
    "import sys\n",
    "import matplotlib.pyplot as plt\n",
    "from scipy.io import loadmat\n",
    "import time\n",
    "\n",
    "from helper import *\n",
    "\n",
    "%matplotlib inline\n",
    "print('You\\'re running python %s' % sys.version.split(' ')[0])"
   ]
  },
  {
   "cell_type": "markdown",
   "metadata": {
    "deletable": false,
    "editable": false,
    "nbgrader": {
     "checksum": "257a0f7890c5f45d892f7d9899e77417",
     "grade": false,
     "grade_id": "cell-d5f8224f284306d3",
     "locked": true,
     "schema_version": 1,
     "solution": false
    }
   },
   "source": [
    "<h3>Visualizing Data</h3>\n",
    "<p>In the cell below, you generate a simple 1-dimensional toy dataset by calling <code>generate_data</code>. This function returns the data $\\mathbf{X}$ and label $\\mathbf{y}$. Note that $\\mathbf{X}$ is of shape (N, 2). We append 1 to each example to introduce bias.</p>"
   ]
  },
  {
   "cell_type": "code",
   "execution_count": 3,
   "metadata": {},
   "outputs": [
    {
     "name": "stdout",
     "output_type": "stream",
     "text": [
      "The shape of X is (50, 2). This is because we append 1 to each feature vector to introduce bias!\n"
     ]
    }
   ],
   "source": [
    "X, y = generate_data()\n",
    "\n",
    "print(f'The shape of X is {X.shape}. This is because we append 1 to each feature vector to introduce bias!')"
   ]
  },
  {
   "cell_type": "code",
   "execution_count": 4,
   "metadata": {},
   "outputs": [
    {
     "data": {
      "image/png": "[encoded data removed]",
      "text/plain": [
       "<Figure size 432x288 with 1 Axes>"
      ]
     },
     "metadata": {
      "needs_background": "light"
     },
     "output_type": "display_data"
    }
   ],
   "source": [
    "plt.plot(X[:, 0], y, '*')\n",
    "plt.xlabel('x')\n",
    "plt.ylabel('y')\n",
    "plt.show()"
   ]
  },
  {
   "cell_type": "markdown",
   "metadata": {
    "deletable": false,
    "editable": false,
    "nbgrader": {
     "checksum": "44b3a662d905db9944c400ba7d3fb4f1",
     "grade": false,
     "grade_id": "cell-6aae1a46a88cfb3d",
     "locked": true,
     "schema_version": 1,
     "solution": false
    }
   },
   "source": [
    "<h2>Multilayer Perceptron</h2>\n",
    "\n",
    "<h3>Part Zero: Transition Function and Transition Function's gradient</h3>\n",
    "<p>Transition functions are the key component of a neural network that contributes to its nonlinearity. For our neural network, we are going to use the ReLU transition function. Recall that the ReLU transition is as follows:</p>\n",
    "$$\\sigma(z) = \\max(z, 0)$$\n",
    "\n",
    "<p>We have implemented the <code>ReLU</code> and <code>ReLU_grad</code> functions as follow: (As its name suggests,  <code>ReLU_grad</code> computes the gradient of the ReLU function.)</p>"
   ]
  },
  {
   "cell_type": "code",
   "execution_count": 5,
   "metadata": {
    "deletable": false,
    "editable": false,
    "nbgrader": {
     "checksum": "cca218120ce7f2f7c4ca4b1e48600497",
     "grade": false,
     "grade_id": "cell-e29d6d493186387e",
     "locked": true,
     "schema_version": 1,
     "solution": false
    }
   },
   "outputs": [],
   "source": [
    "def ReLU(z):\n",
    "    return np.maximum(z, 0)"
   ]
  },
  {
   "cell_type": "code",
   "execution_count": 6,
   "metadata": {
    "deletable": false,
    "editable": false,
    "nbgrader": {
     "checksum": "2587398563b3ba98ff09811d58c52ee1",
     "grade": false,
     "grade_id": "cell-0e334778f4924bd7",
     "locked": true,
     "schema_version": 1,
     "solution": false
    }
   },
   "outputs": [],
   "source": [
    "def ReLU_grad(z):\n",
    "    return (z > 0).astype('float64')"
   ]
  },
  {
   "cell_type": "markdown",
   "metadata": {
    "deletable": false,
    "editable": false,
    "nbgrader": {
     "checksum": "ae69ce2770d9e51a290013c3c7630a1a",
     "grade": false,
     "grade_id": "cell-d719110877776b79",
     "locked": true,
     "schema_version": 1,
     "solution": false
    }
   },
   "source": [
    "<h4>Visualize the Activation Function</h4>\n",
    "We can now visualize the activation function in the plot above by running the code in the cell below."
   ]
  },
  {
   "cell_type": "code",
   "execution_count": 7,
   "metadata": {
    "deletable": false,
    "editable": false,
    "nbgrader": {
     "checksum": "147b5f354e921e6fb1dfeab636d8fa17",
     "grade": false,
     "grade_id": "cell-ea052350528f5135",
     "locked": true,
     "schema_version": 1,
     "solution": false
    }
   },
   "outputs": [
    {
     "data": {
      "text/plain": [
       "<matplotlib.legend.Legend at 0x7fdfaa2370b8>"
      ]
     },
     "execution_count": 7,
     "metadata": {},
     "output_type": "execute_result"
    },
    {
     "data": {
      "image/png": "[encoded data removed]",
      "text/plain": [
       "<Figure size 432x288 with 1 Axes>"
      ]
     },
     "metadata": {
      "needs_background": "light"
     },
     "output_type": "display_data"
    }
   ],
   "source": [
    "plt.plot(np.linspace(-4, 4, 1000), ReLU(np.linspace(-4, 4, 1000)),'b-')\n",
    "plt.plot(np.linspace(-4, 4, 1000), ReLU_grad(np.linspace(-4, 4, 1000)),'r-')\n",
    "plt.xlabel('z')\n",
    "plt.ylabel(r'$\\max$ (z, 0)')\n",
    "plt.legend(['ReLU','ReLU_grad'])"
   ]
  },
  {
   "cell_type": "markdown",
   "metadata": {},
   "source": [
    "We can also display the function and its gradient on a small example vector:"
   ]
  },
  {
   "cell_type": "code",
   "execution_count": 8,
   "metadata": {},
   "outputs": [
    {
     "name": "stdout",
     "output_type": "stream",
     "text": [
      "X: [ 2.7 -0.5 -3.2]\n",
      "ReLU(X): [2.7 0.  0. ]\n",
      "ReLU_grad(X): [1. 0. 0.]\n"
     ]
    }
   ],
   "source": [
    "x=np.array([2.7,-0.5,-3.2])\n",
    "print(\"X:\",x)\n",
    "print(\"ReLU(X):\",ReLU(x))\n",
    "print(\"ReLU_grad(X):\",ReLU_grad(x))"
   ]
  },
  {
   "cell_type": "markdown",
   "metadata": {
    "deletable": false,
    "editable": false,
    "nbgrader": {
     "checksum": "bba29e2af110a46c2c1f4b919bc6c76a",
     "grade": false,
     "grade_id": "cell-a07168b188ef1922",
     "locked": true,
     "schema_version": 1,
     "solution": false
    }
   },
   "source": [
    "### Part One: Forward Pass [Graded]\n",
    "\n",
    "In this section, you will implement the forward pass function **`forward_pass(W, xTr)`**. Note that $\\mathbf{W}$ specifies the weights of the network at each layer. More specifically, $\\mathbf{W}[0]$ stores the weights for the first layer of the network, $\\mathbf{W}[l]$ stores the weights of the $(l + 1)^{th}$ layer and $\\mathbf{W}[L-1]$ stores the weights of the last layer.\n",
    "\n",
    "Each layer of the network produces two outputs, $\\mathbf{A}[l + 1]$ and $\\mathbf{Z}[l + 1]$, where \n",
    "- $\\mathbf{A}[l + 1] = \\mathbf{Z}[l] * \\mathbf{W}[l]$ for $l = 0, 1, 2, \\dots, L-1$ and \n",
    "- $\\mathbf{Z}[l + 1] = \\sigma(\\mathbf{A}[l+1])$ for $l = 0, 1, 2, \\dots, L-2$ and \n",
    "- $\\mathbf{Z}[L] = \\mathbf{A}[L]$ for the output\n",
    "\n",
    "Here, $*$ is matrix-multiplication and $\\mathbf{Z}[0], \\mathbf{A}[0]$ are both initialized to be the the training set.\n",
    "\n",
    "For simplicity, we did not include bias when calculating $\\mathbf{A}[l + 1]$. For the purpose of this assignment, this is fine since we have appended one in all the raw features and  our dataset is rather simple. In general, bias should always be included when calculating $\\mathbf{A}[l + 1]$\n",
    "\n",
    "To visualize the variables $\\mathbf{A}$, $\\mathbf{Z}$, and $\\mathbf{W}$ a bit better, consider the following hypothetical neural net layer:\n",
    "\n",
    "<center><img src=\"nnlayer.png\" width=\"50%\"></center>\n",
    "\n",
    "It is important to note that $\\mathbf{W}$ is an *array of matrices*, as specified in the docstring for the provided method `initweights`. Since layer $i$ has 2 nodes and layer $i+1$ has 3, $\\mathbf{W}[i]$ is a 2 by 3 matrix. Additionally, $\\sigma$ is applied elementwise to the values in $\\mathbf{A}[i+1]$, and is `ReLU` for this assignment. The final output at the end of the neural network should be $\\mathbf{Z}[L]$.\n",
    "\n",
    "The following function will allow you to randomly generate initial weights for the neural network:"
   ]
  },
  {
   "cell_type": "code",
   "execution_count": 9,
   "metadata": {
    "deletable": false,
    "editable": false,
    "nbgrader": {
     "checksum": "81d169e337fbd099646961202be14bde",
     "grade": false,
     "grade_id": "cell-ce4c1f90a8b0779c",
     "locked": true,
     "schema_version": 1,
     "solution": false
    }
   },
   "outputs": [],
   "source": [
    "def initweights(specs):\n",
    "    \"\"\"\n",
    "    Given a specification of the neural network, output a random weight array.\n",
    "    \n",
    "    Input:\n",
    "        specs: array of length m-1, where m = len(specs). specs[0] should be the\n",
    "               dimension of the feature and spec[-1] should be the dimension of output\n",
    "    \n",
    "    Output:\n",
    "        W: array of length m-1, each element is a matrix where W[i].shape == (specs[i], specs[i+1])\n",
    "    \"\"\"\n",
    "    W = []\n",
    "    for i in range(len(specs) - 1):\n",
    "        W.append(np.random.randn(specs[i], specs[i+1]))\n",
    "    return W"
   ]
  },
  {
   "cell_type": "markdown",
   "metadata": {
    "deletable": false,
    "editable": false,
    "nbgrader": {
     "checksum": "1ca117617e8be673af37fa2b35c9eaa9",
     "grade": false,
     "grade_id": "cell-49b13a76609c98c3",
     "locked": true,
     "schema_version": 1,
     "solution": false
    }
   },
   "source": [
    "#### If we want to create a network that:\n",
    "1. Takes in feature of dimension 2\n",
    "2. Has 1 hidden layer with 3 hidden units\n",
    "3. Outputs a scalar\n",
    "\n",
    "Then we initialize the the weights the following way:"
   ]
  },
  {
   "cell_type": "code",
   "execution_count": 10,
   "metadata": {
    "deletable": false,
    "editable": false,
    "nbgrader": {
     "checksum": "0b917ef0102f628376b73cb5ca31e050",
     "grade": false,
     "grade_id": "cell-679cd28956259b78",
     "locked": true,
     "schema_version": 1,
     "solution": false
    }
   },
   "outputs": [],
   "source": [
    "W = initweights([2, 3, 1])"
   ]
  },
  {
   "cell_type": "markdown",
   "metadata": {
    "deletable": false,
    "editable": false,
    "nbgrader": {
     "checksum": "b8e831ef998d1d922fd1090bfeb8b236",
     "grade": false,
     "grade_id": "cell-1e5948cf4b4cf360",
     "locked": true,
     "schema_version": 1,
     "solution": false
    }
   },
   "source": [
    "In the cell below, implement the forward pass function <code>forward_pass(W, xTr)</code>. The below is the pseudocode from the READ module: \n",
    "\n",
    "<center><img src=\"fwdpass_text.png\" width=\"50%\"></center>\n",
    "\n",
    "A forward pass is used to evaluate a neural network on an input. However, here, we want to do a forward pass also to train a neural network. That is, we will follow it with a backward pass. Therefore, unlike the pseudocode you read previously in the module, your code should output $\\mathbf{A}$ (a **list** of the outputs at each layer after multiplying by the weights) and $\\mathbf{Z}$ (a **list** of all outputs at each layer after passing the results of $\\mathbf{A}$ through our transition function). To be precise, the outputs to your function should be $\\mathbf{A} = [\\mathbf{A}_0, \\mathbf{A}_1, \\dots, \\mathbf{A}_{L}]$ and $\\mathbf{Z} = [ \\mathbf{Z}_0, \\mathbf{Z}_1, \\dots, \\mathbf{Z}_{L}]$. We need these intermediate results because it is much more efficient to not recompute them when we need them during the backward pass.\n",
    "\n",
    "Here's the modified pseudocode that you should implement:\n",
    "\n",
    "<center><img src=\"fwdpass_mat.png\" width=\"50%\"></center>"
   ]
  },
  {
   "cell_type": "code",
   "execution_count": 23,
   "metadata": {
    "deletable": false,
    "nbgrader": {
     "checksum": "ffb5d7f7c23f8848a43bc607395d9618",
     "grade": false,
     "grade_id": "cell-forward_pass",
     "locked": false,
     "schema_version": 1,
     "solution": true
    }
   },
   "outputs": [],
   "source": [
    "def forward_pass(W, xTr):\n",
    "    \"\"\"\n",
    "    Propagates the data matrix xTr forward in the network specified by the weight matrices in the array W\n",
    "    \n",
    "    Input:\n",
    "        W: a list of L weight matrices, specifying the network\n",
    "        xTr: nxd data matrix. Each row is an input vector\n",
    "    \n",
    "    OUTPUTS:\n",
    "        A, Z\n",
    "        A: a list of L+1 matrices, each of which is the result of matrix multiplication of previous layer's outputs and weights.\n",
    "           The first matrix in the list is xTr.\n",
    "        Z: a list of L+1 matrices, each of which is the result of transition functions on elements of A.\n",
    "           The first matrix in the list is xTr.\n",
    "    \"\"\"\n",
    "    \n",
    "    # Initialize A and Z\n",
    "    A = [xTr]\n",
    "    Z = [xTr]\n",
    "\n",
    "    for i in range(len(W)):\n",
    "        a = Z[i] @ W[i]\n",
    "        A.append(a)\n",
    "        \n",
    "        if i < (len(W)-1):\n",
    "            z = ReLU(a)\n",
    "        else:\n",
    "            z = a\n",
    "            \n",
    "        Z.append(z)    \n",
    "    return A, Z"
   ]
  },
  {
   "cell_type": "code",
   "execution_count": 24,
   "metadata": {
    "deletable": false,
    "editable": false,
    "nbgrader": {
     "checksum": "a8d62b40a83098c1d1646a0347b76cab",
     "grade": false,
     "grade_id": "cell-forward_pass-selftest",
     "locked": true,
     "schema_version": 1,
     "solution": false
    }
   },
   "outputs": [
    {
     "name": "stdout",
     "output_type": "stream",
     "text": [
      "Running Test: forward_test1 ... ✔ Passed!\n",
      "Running Test: forward_test2 ... ✔ Passed!\n",
      "Running Test: forward_test3 ... ✔ Passed!\n",
      "Running Test: forward_test4 ... ✔ Passed!\n",
      "Running Test: forward_test5 ... ✔ Passed!\n"
     ]
    }
   ],
   "source": [
    "def forward_test1():\n",
    "    X, _ = generate_data() # generate data\n",
    "    W = initweights([2, 3, 1]) # generate random weights\n",
    "    out = forward_pass(W, X) # run forward pass\n",
    "    return len(out) == 2 # make sure that your function return a tuple\n",
    "\n",
    "def forward_test2():\n",
    "    X, _ = generate_data() # generate data\n",
    "    W = initweights([2, 3, 1]) # generate random weights\n",
    "    A, Z = forward_pass(W, X) # run forward pass\n",
    "    return len(A) == 3 and len(Z) == 3 # Make sure that output produced match the length of the weight + 1\n",
    "\n",
    "def forward_test3():\n",
    "    X, _ = generate_data() # generate data\n",
    "    n, d = X.shape\n",
    "    W = initweights([2, 3, 1]) # generate random weights\n",
    "    A, Z = forward_pass(W, X) # run forward pass\n",
    "    return (A[0].shape == (n, d) and\n",
    "            Z[0].shape == (n, d) and\n",
    "            A[1].shape == (n, 3) and \n",
    "            Z[1].shape == (n, 3)  and\n",
    "            A[2].shape == (n, 1) and\n",
    "            A[2].shape == (n, 1) ) # Make sure the layer produce the right shape output\n",
    "\n",
    "def forward_test4():\n",
    "    X = -1*np.ones((1, 2)) # generate a feature matrix of all negative ones\n",
    "    W = [np.ones((2, 1))] # a single layer network with weights one\n",
    "    A, Z = forward_pass(W, X) # run forward pass\n",
    "    \n",
    "    # check whether you do not apply the transition function to A[-1] \n",
    "    return np.linalg.norm(Z[-1] - X@W[0]) < 1e-7\n",
    "\n",
    "def forward_test5():\n",
    "    X, _ = generate_data() # generate data\n",
    "    n, _ = X.shape\n",
    "    W = initweights([2, 3, 1]) # generate random weights\n",
    "    A, Z = forward_pass(W, X) # run your forward pass\n",
    "    A_grader, Z_grader = forward_pass_grader(W, X) # run our forward pass\n",
    "    \n",
    "    Adiff = 0\n",
    "    Zdiff = 0\n",
    "    \n",
    "    # compute the difference between your solution and ours\n",
    "    for i in range(1, 3):\n",
    "        Adiff += np.linalg.norm(A[i] - A_grader[i])\n",
    "        Zdiff += np.linalg.norm(Z[i] - Z_grader[i])\n",
    "        \n",
    "    return Adiff < 1e-7 and Zdiff < 1e-7\n",
    "\n",
    "runtest(forward_test1, \"forward_test1\")\n",
    "runtest(forward_test2, \"forward_test2\")\n",
    "runtest(forward_test3, \"forward_test3\")\n",
    "runtest(forward_test4, \"forward_test4\")\n",
    "runtest(forward_test5, \"forward_test5\")"
   ]
  },
  {
   "cell_type": "code",
   "execution_count": null,
   "metadata": {
    "deletable": false,
    "editable": false,
    "nbgrader": {
     "checksum": "53bf00499502d8d292ddf3f1a1e300e1",
     "grade": true,
     "grade_id": "cell-Forward_test1",
     "locked": true,
     "points": 1,
     "schema_version": 1,
     "solution": false
    }
   },
   "outputs": [],
   "source": [
    "# Autograder Test Cell\n",
    "# Forward_test1\n"
   ]
  },
  {
   "cell_type": "code",
   "execution_count": null,
   "metadata": {
    "deletable": false,
    "editable": false,
    "nbgrader": {
     "checksum": "847bb16323ea363320d2b84dbe988b06",
     "grade": true,
     "grade_id": "cell-Forward_test2",
     "locked": true,
     "points": 1,
     "schema_version": 1,
     "solution": false
    }
   },
   "outputs": [],
   "source": [
    "# Autograder Test Cell\n",
    "# Forward_test2\n"
   ]
  },
  {
   "cell_type": "code",
   "execution_count": null,
   "metadata": {
    "deletable": false,
    "editable": false,
    "nbgrader": {
     "checksum": "37406b4b096f046cf8bbbf9112fe0770",
     "grade": true,
     "grade_id": "cell-Forward_test3",
     "locked": true,
     "points": 1,
     "schema_version": 1,
     "solution": false
    }
   },
   "outputs": [],
   "source": [
    "# Autograder Test Cell\n",
    "# Forward_test3\n"
   ]
  },
  {
   "cell_type": "code",
   "execution_count": null,
   "metadata": {
    "deletable": false,
    "editable": false,
    "nbgrader": {
     "checksum": "d83df06f2dcef188f9bd1ef580f5132e",
     "grade": true,
     "grade_id": "cell-Forward_test4",
     "locked": true,
     "points": 1,
     "schema_version": 1,
     "solution": false
    }
   },
   "outputs": [],
   "source": [
    "# Autograder Test Cell\n",
    "# Forward_test4\n"
   ]
  },
  {
   "cell_type": "code",
   "execution_count": null,
   "metadata": {
    "deletable": false,
    "editable": false,
    "nbgrader": {
     "checksum": "90fea4382dd0ac07fcf073589b6cf6fe",
     "grade": true,
     "grade_id": "cell-Forward_test5",
     "locked": true,
     "points": 1,
     "schema_version": 1,
     "solution": false
    }
   },
   "outputs": [],
   "source": [
    "# Autograder Test Cell\n",
    "# Forward_test5\n"
   ]
  },
  {
   "cell_type": "markdown",
   "metadata": {
    "deletable": false,
    "editable": false,
    "nbgrader": {
     "checksum": "5e9450169921559b2b465d28b79b8881",
     "grade": false,
     "grade_id": "cell-d74c4dde8e4ec273",
     "locked": true,
     "schema_version": 1,
     "solution": false
    }
   },
   "source": [
    "### Part Two: MSE Loss and Gradient [Graded]\n",
    "#### Loss Function [Graded]\n",
    "\n",
    "In this section, you are going to implement the Mean Squared Error (MSE) loss function for regression. Recall that for a set of training example $\\left\\{ \\left( \\mathbf{x}_1, y_1 \\right), \\dots, \\left(\\mathbf{x}_n, y_n \\right) \\right\\}$, the MSE of the network $h$ is \n",
    "\n",
    "$$\n",
    "\\mathcal{L} = \\frac{1}{n} \\sum_{i = 1}^n \\left( h \\left(\\mathbf{x}_i \\right) - y_i \\right)^2\n",
    "$$\n",
    "\n",
    "The **`MSE`** function you are going to implement takes the output of the network `out` and the labels `y` and computes the MSE loss."
   ]
  },
  {
   "cell_type": "code",
   "execution_count": 25,
   "metadata": {
    "deletable": false,
    "nbgrader": {
     "checksum": "814a05e9918bfc05a0d153ce4bab0b8d",
     "grade": false,
     "grade_id": "cell-MSE",
     "locked": false,
     "schema_version": 1,
     "solution": true
    }
   },
   "outputs": [],
   "source": [
    "def MSE(out, y):\n",
    "    \"\"\"\n",
    "    Calculates the Mean Squared Error for output and true labels y.\n",
    "\n",
    "    Input:\n",
    "        out: output of network (n-dimensional vector)\n",
    "        y: true labels (n-dimensional vector)\n",
    "    \n",
    "    Output:\n",
    "        loss: the MSE loss (a scalar)\n",
    "    \"\"\"\n",
    "    \n",
    "    n = len(y)\n",
    "    squared_diff = (out - y) ** 2\n",
    "    loss = sum(squared_diff) / n\n",
    "\n",
    "    return loss\n"
   ]
  },
  {
   "cell_type": "code",
   "execution_count": 26,
   "metadata": {
    "deletable": false,
    "editable": false,
    "nbgrader": {
     "checksum": "818cf806c15ad62ca5f13e31c7906acc",
     "grade": false,
     "grade_id": "cell-MSE-selftest",
     "locked": true,
     "schema_version": 1,
     "solution": false
    }
   },
   "outputs": [
    {
     "name": "stdout",
     "output_type": "stream",
     "text": [
      "Running Test: MSE_test1 ... ✔ Passed!\n",
      "Running Test: MSE_test2 ... ✔ Passed!\n",
      "Running Test: MSE_test3 ... ✔ Passed!\n"
     ]
    }
   ],
   "source": [
    "def MSE_test1():\n",
    "    X, y = generate_data() # generate data\n",
    "    W = initweights([2, 3, 1]) # generate random weights\n",
    "    A, Z = forward_pass(W, X)\n",
    "    loss = MSE(Z[-1].flatten(), y) # calculate loss\n",
    "    \n",
    "    return np.isscalar(loss) # your loss should be a scalar\n",
    "\n",
    "def MSE_test2():\n",
    "    X, y = generate_data() # generate data\n",
    "    W = initweights([2, 3, 1]) # generate random weights\n",
    "    A, Z = forward_pass(W, X)\n",
    "    loss = MSE(Z[-1].flatten(), y) # calculate loss\n",
    "    \n",
    "    return loss >= 0 # your loss should be nonnegative\n",
    "\n",
    "def MSE_test3():\n",
    "    X, y = generate_data() # generate data\n",
    "    W = initweights([2, 3, 1]) # generate random weights\n",
    "    A, Z = forward_pass(W, X)\n",
    "    loss = MSE(Z[-1].flatten(), y) # calculate loss\n",
    "    loss_grader = MSE_grader(Z[-1].flatten(), y)\n",
    "    \n",
    "    # your loss should not deviate too much from ours\n",
    "    # If you fail this test case, check whether you divide your loss by 1/n\n",
    "    return np.absolute(loss - loss_grader) < 1e-7 \n",
    "\n",
    "runtest(MSE_test1, \"MSE_test1\")\n",
    "runtest(MSE_test2, \"MSE_test2\")\n",
    "runtest(MSE_test3, \"MSE_test3\")"
   ]
  },
  {
   "cell_type": "code",
   "execution_count": null,
   "metadata": {
    "deletable": false,
    "editable": false,
    "nbgrader": {
     "checksum": "04b41ab5b1542cd203329d6b51c4cdc9",
     "grade": true,
     "grade_id": "cell-MSE_test1",
     "locked": true,
     "points": 1,
     "schema_version": 1,
     "solution": false
    }
   },
   "outputs": [],
   "source": [
    "# Autograder Test Cell\n",
    "# MSE_test1\n"
   ]
  },
  {
   "cell_type": "code",
   "execution_count": null,
   "metadata": {
    "deletable": false,
    "editable": false,
    "nbgrader": {
     "checksum": "b7dfae7c68617ebceb65235eef8cb058",
     "grade": true,
     "grade_id": "cell-MSE_test2",
     "locked": true,
     "points": 1,
     "schema_version": 1,
     "solution": false
    }
   },
   "outputs": [],
   "source": [
    "# Autograder Test Cell\n",
    "# MSE_test2\n"
   ]
  },
  {
   "cell_type": "code",
   "execution_count": null,
   "metadata": {
    "deletable": false,
    "editable": false,
    "nbgrader": {
     "checksum": "6bea73887d3924fd6017d245af062024",
     "grade": true,
     "grade_id": "cell-MSE_test3",
     "locked": true,
     "points": 1,
     "schema_version": 1,
     "solution": false
    }
   },
   "outputs": [],
   "source": [
    "# Autograder Test Cell\n",
    "# MSE_test3\n"
   ]
  },
  {
   "cell_type": "markdown",
   "metadata": {
    "deletable": false,
    "editable": false,
    "nbgrader": {
     "checksum": "82e1f1cbace88b3639ed204423ac68b9",
     "grade": false,
     "grade_id": "cell-fdbbbef5c0a94c93",
     "locked": true,
     "schema_version": 1,
     "solution": false
    }
   },
   "source": [
    "#### Gradient [Graded]\n",
    "\n",
    "You will now need to implement the gradient of the MSE loss calculated above. When you take the derivative of the above with respect to the entries of `out`, you get the following:\n",
    "\n",
    "$$\n",
    "\\nabla \\mathcal{L} = \\frac{2}{n} \\cdot \\left( h \\left(\\mathbf{x}_i \\right) - y_i \\right)\n",
    "$$\n",
    "\n",
    "Implement the above in the function **`MSE_grad`**."
   ]
  },
  {
   "cell_type": "code",
   "execution_count": 27,
   "metadata": {
    "deletable": false,
    "nbgrader": {
     "checksum": "c96e0147e7efa74601ad9245e4c856d3",
     "grade": false,
     "grade_id": "cell-MSE_grad",
     "locked": false,
     "schema_version": 1,
     "solution": true
    }
   },
   "outputs": [],
   "source": [
    "def MSE_grad(out, y):\n",
    "    \"\"\"\n",
    "    Calculates the gradient of the MSE loss w.r.t. network output.\n",
    "    \n",
    "    Input:\n",
    "        out: output of network (n-dimensional vector)\n",
    "        y: true labels (n-dimensional vector)\n",
    "    \n",
    "    Output:\n",
    "        grad: the gradient of the MSE loss with respect to out (n-dimensional vector)\n",
    "    \"\"\"\n",
    "    \n",
    "    n = len(y)\n",
    "    grad = np.zeros(n)\n",
    "\n",
    "    n = len(y)\n",
    "    grad = 2 * (out - y) / n\n",
    "    \n",
    "    return grad\n",
    "\n"
   ]
  },
  {
   "cell_type": "code",
   "execution_count": 28,
   "metadata": {
    "deletable": false,
    "editable": false,
    "nbgrader": {
     "checksum": "6616ef3227bd843df2140ed69005a37b",
     "grade": false,
     "grade_id": "cell-MSE_grad-selftest",
     "locked": true,
     "schema_version": 1,
     "solution": false
    }
   },
   "outputs": [
    {
     "name": "stdout",
     "output_type": "stream",
     "text": [
      "Running Test: MSE_grad_test1 ... ✔ Passed!\n",
      "Running Test: MSE_grad_test2 ... ✔ Passed!\n",
      "Running Test: MSE_grad_test3 ... ✔ Passed!\n"
     ]
    }
   ],
   "source": [
    "def MSE_grad_test1():\n",
    "    X, y = generate_data() # generate data\n",
    "    \n",
    "    n, _ = X.shape\n",
    "    W = initweights([2, 3, 1]) # generate random weights\n",
    "    A, Z = forward_pass(W, X)\n",
    "    \n",
    "    grad = MSE_grad(Z[-1].flatten(), y)\n",
    "    return grad.shape == (n, ) # check if the gradient has the right shape\n",
    "\n",
    "def MSE_grad_test2():\n",
    "    out = np.array([1])\n",
    "    y = np.array([1.2])\n",
    "    \n",
    "    # calculate numerical gradient using finite difference\n",
    "    numerical_grad = (MSE(out + 1e-7, y) - MSE(out - 1e-7, y)) / 2e-7\n",
    "    grad = MSE_grad(out, y)\n",
    "    \n",
    "    # check your gradient is close to the numerical gradient\n",
    "    return np.linalg.norm(numerical_grad - grad) < 1e-7\n",
    "\n",
    "def MSE_grad_test3():\n",
    "    X, y = generate_data() # generate data\n",
    "    \n",
    "    n, _ = X.shape\n",
    "    W = initweights([2, 3, 1]) # generate random weights\n",
    "    A, Z = forward_pass(W, X)\n",
    "    \n",
    "    grad = MSE_grad(Z[-1].flatten(), y)\n",
    "    grad_grader = MSE_grad_grader(Z[-1].flatten(), y) # compute gradient using our solution\n",
    "    \n",
    "    # your gradient should not deviate too much from ours\n",
    "    return np.linalg.norm(grad_grader - grad) < 1e-7\n",
    "\n",
    "runtest(MSE_grad_test1, 'MSE_grad_test1')\n",
    "runtest(MSE_grad_test2, 'MSE_grad_test2')\n",
    "runtest(MSE_grad_test3, 'MSE_grad_test3')"
   ]
  },
  {
   "cell_type": "code",
   "execution_count": null,
   "metadata": {
    "deletable": false,
    "editable": false,
    "nbgrader": {
     "checksum": "03680a1ac85a28ddef80533508da1fd0",
     "grade": true,
     "grade_id": "cell-MSE_grad-test1",
     "locked": true,
     "points": 1,
     "schema_version": 1,
     "solution": false
    }
   },
   "outputs": [],
   "source": [
    "# Autograder Test Cell\n",
    "# MSE_grad_test1\n"
   ]
  },
  {
   "cell_type": "code",
   "execution_count": null,
   "metadata": {
    "deletable": false,
    "editable": false,
    "nbgrader": {
     "checksum": "68b79dd5b4f4f01ccad25e2f75ca3b77",
     "grade": true,
     "grade_id": "cell-MSE_grad-test2",
     "locked": true,
     "points": 1,
     "schema_version": 1,
     "solution": false
    }
   },
   "outputs": [],
   "source": [
    "# Autograder Test Cell\n",
    "# MSE_grad_test2\n"
   ]
  },
  {
   "cell_type": "code",
   "execution_count": null,
   "metadata": {
    "deletable": false,
    "editable": false,
    "nbgrader": {
     "checksum": "1cb5c4d76e6c729909acbbba57be3825",
     "grade": true,
     "grade_id": "cell-MSE_grad-test3",
     "locked": true,
     "points": 1,
     "schema_version": 1,
     "solution": false
    }
   },
   "outputs": [],
   "source": [
    "# Autograder Test Cell\n",
    "# MSE_grad_test3\n"
   ]
  },
  {
   "cell_type": "markdown",
   "metadata": {
    "deletable": false,
    "editable": false,
    "nbgrader": {
     "checksum": "9bf718086f63585e2348636b3631bf59",
     "grade": false,
     "grade_id": "cell-59645f5d54210a6a",
     "locked": true,
     "schema_version": 1,
     "solution": false
    }
   },
   "source": [
    "### Part Three: Backpropagation [Graded]\n",
    "\n",
    "In this section, you are going to implement the **`backprop`** for a ReLU network specified by weights $\\mathbf{W}$. To recap, this is the stage that updates all the weights in the network starting from the last layer. Again, our implementation will have slight tweaks from the pseudocode you read earlier. \n",
    "\n",
    "<center><img src=\"backpass_text.png\" width=\"50%\"></center>\n",
    "\n",
    "The algorithm looks like this after modifying the notation:\n",
    "\n",
    "<center><img src=\"backpass_mat.png\" width=\"50%\"></center>\n",
    "\n",
    "**Implementation Notes:**\n",
    "- We recommend the for-loop backwards, i.e., starting at the gradient for $\\mathbf{W}[L-1]$, calculating the next \"link\", and repeating these 2 steps until you reach the gradient for $\\mathbf{W}[0]$.\n",
    "- Recall that in backpropagation, for each layer $l$, we alternate between calculating a \"link\" ( $\\frac{\\partial \\mathcal{L}}{\\partial \\mathbf A_{l+1}}$) and updating the weight ($\\mathbf{W}_l = \\mathbf{W}_l - \\alpha \\frac{\\partial \\mathcal{L}}{\\partial \\mathbf{W}_l}$). In this function, you only calculate the gradient $\\frac{\\partial \\mathcal{L}}{\\partial \\mathbf{W}_l}$, **without applying it**. In other words, you store all the $\\frac{\\partial \\mathcal{L}}{\\partial \\mathbf{W}_l}$ for all $0 \\le l \\le L-1$, and return them all in the list `gradients`.\n",
    "- In our code the \"link\" is `delta` $= \\delta_{l} = \\frac{\\partial \\mathcal{L}}{\\partial \\mathbf{A}_{l}}$. The line initializing it has been done for you, so you only need to implement the links inside the for-loop using the algorithm above.\n",
    "- In python you can multiply two matrices `D, B` element-wise with `D * B`. \n",
    "- Ensure that each element of the output `gradient` list is the gradient with respect to the corresponding weight matrix in `W`."
   ]
  },
  {
   "cell_type": "code",
   "execution_count": 35,
   "metadata": {
    "deletable": false,
    "nbgrader": {
     "checksum": "2eaa6975f2aa20cfe54d2a069471ff56",
     "grade": false,
     "grade_id": "cell-backprop",
     "locked": false,
     "schema_version": 1,
     "solution": true
    }
   },
   "outputs": [],
   "source": [
    "def backprop(W, A, Z, y):\n",
    "    \"\"\"\n",
    "    Implements the back-propagation algorithm for the network specified by weights in W\n",
    "    and intermediate values A, Z for the data propagated forward (corresponding labels y).\n",
    "    \n",
    "    Input:\n",
    "        W: a list of L weight matrices\n",
    "        A: a list of L+1 matrices, each of which is the result of matrix multiplication of previous layer's outputs and weights.\n",
    "           The first matrix in the list is the data.\n",
    "        Z: a list of L+1 matrices, each of which is the result of transition functions on elements of A.\n",
    "           The first matrix in the list is the data.\n",
    "        y: true labels (n-dimensional vector)\n",
    "        \n",
    "    Output:\n",
    "        gradient: a list of L matrices, each of which is the gradient with respect to the corresponding entry of W\n",
    "    \"\"\"\n",
    "    \n",
    "    # Convert delta to a row vector to make things easier\n",
    "    delta = (MSE_grad(Z[-1].flatten(), y) * 1).reshape(-1, 1)\n",
    "\n",
    "    # compute gradient with backprop\n",
    "    gradients = [] \n",
    "    \n",
    "    for i in range(len(W)-1, -1, -1):\n",
    "        gradients.append((Z[i].T) @ (delta))\n",
    "        delta = ReLU_grad(A[i]) * (delta@(W[i].T))\n",
    "        \n",
    "    gradients = gradients[::-1]\n",
    "    \n",
    "    return gradients"
   ]
  },
  {
   "cell_type": "code",
   "execution_count": 36,
   "metadata": {
    "deletable": false,
    "editable": false,
    "nbgrader": {
     "checksum": "991c036362b91c78202b2e16b67f36ed",
     "grade": false,
     "grade_id": "cell-backprop-selftest",
     "locked": true,
     "schema_version": 1,
     "solution": false
    }
   },
   "outputs": [
    {
     "name": "stdout",
     "output_type": "stream",
     "text": [
      "Running Test: backprop_test1 ... ✔ Passed!\n",
      "Running Test: backprop_test2 ... ✔ Passed!\n",
      "Running Test: backprop_test3 ... ✔ Passed!\n",
      "Running Test: backprop_test4 ... ✔ Passed!\n",
      "Running Test: backprop_test5 ... ✔ Passed!\n"
     ]
    }
   ],
   "source": [
    "def backprop_test1():\n",
    "    X, y = generate_data() # generate data\n",
    "    \n",
    "    n, _ = X.shape\n",
    "    W = initweights([2, 3, 1]) # generate random weights\n",
    "    A, Z = forward_pass(W, X)\n",
    "    \n",
    "    gradient = backprop(W, A, Z, y) # backprop to calculate the gradient\n",
    "    \n",
    "    # You should return a list with the same len as W\n",
    "    return len(gradient) == len(W)\n",
    "\n",
    "def backprop_test2():\n",
    "    X, y = generate_data() # generate data\n",
    "    \n",
    "    n, _ = X.shape\n",
    "    W = initweights([2, 3, 1]) # generate random weights\n",
    "    A, Z = forward_pass(W, X)\n",
    "    \n",
    "    gradient = backprop(W, A, Z, y) # backprop to calculate the gradient\n",
    "    \n",
    "    # gradient[i] should match the shape of W[i]\n",
    "    return np.all([gradient[i].shape == W[i].shape for i in range(len(W))])\n",
    "\n",
    "def backprop_test3():\n",
    "    X, y = generate_data() # generate data\n",
    "    \n",
    "    n, _ = X.shape\n",
    "    \n",
    "    # Use a one layer network\n",
    "    # This is essentially the least squares\n",
    "    W = initweights([2, 1]) \n",
    "    \n",
    "    A, Z = forward_pass(W, X)\n",
    "    \n",
    "    # backprop to calculate the gradient\n",
    "    gradient = backprop(W, A, Z, y) \n",
    "    \n",
    "    # calculate the least square gradient\n",
    "    least_square_gradient = 2 *((X.T @ X) @ W[0] - X.T @ y.reshape(-1, 1)) / n\n",
    "    \n",
    "    # gradient[0] should be the least square gradient\n",
    "    return np.linalg.norm(gradient[0] - least_square_gradient) < 1e-7\n",
    "\n",
    "def backprop_test4():\n",
    "    X, y = generate_data() # generate data\n",
    "    \n",
    "    n, _ = X.shape\n",
    "    \n",
    "    # Use a one layer network\n",
    "    # This is essentially the least squares\n",
    "    W = initweights([2, 5, 5, 1]) \n",
    "    \n",
    "    A, Z = forward_pass(W, X)\n",
    "    \n",
    "    # backprop to calculate the gradient\n",
    "    gradient = backprop(W, A, Z, y) \n",
    "    \n",
    "    # calculate the backprop gradient\n",
    "    gradient_grader = backprop_grader(W, A, Z, y)\n",
    "    \n",
    "    # Check whether your gradient matches ours\n",
    "    OK=[len(gradient_grader)==len(gradient)] # check if length matches\n",
    "    for (g,gg) in zip(gradient_grader,gradient): # check if each component matches in shape and values\n",
    "        OK.append(gg.shape==g.shape and (np.linalg.norm(g - gg) < 1e-7))\n",
    "    return(all(OK))\n",
    "\n",
    "def backprop_test5():\n",
    "    # Here we reverse your gradient output and check that reverse with ours. It shouldn't match. \n",
    "    # If your reverse gradient matches our gradient, this means you outputted the gradient in reverse order.\n",
    "    # This is a common mistake, as the loop is backwards. \n",
    "    X, y = generate_data() # generate data\n",
    "    \n",
    "    n, _ = X.shape\n",
    "    \n",
    "    # Use a one layer network\n",
    "    # This is essentially the least squares\n",
    "    W = initweights([2, 5, 5, 1]) \n",
    "    \n",
    "    A, Z = forward_pass(W, X)\n",
    "    \n",
    "    # backprop to calculate the gradient\n",
    "    gradient = backprop(W, A, Z, y) \n",
    "    \n",
    "    # calculate the backprop gradient\n",
    "    gradient_grader = backprop_grader(W, A, Z, y)\n",
    "\n",
    "    gradient.reverse() # reverse the gradient. From now on it should NOT match\n",
    "    # Check whether your gradient matches ours\n",
    "    OK=[] # check if length matches\n",
    "    for (g,gg) in zip(gradient_grader,gradient): # check if each component matches\n",
    "        OK.append(gg.shape==g.shape and (np.linalg.norm(g - gg) < 1e-7))\n",
    "    return(not all(OK)) \n",
    "\n",
    "\n",
    "\n",
    "runtest(backprop_test1, 'backprop_test1')\n",
    "runtest(backprop_test2, 'backprop_test2')\n",
    "runtest(backprop_test3, 'backprop_test3')\n",
    "runtest(backprop_test4, 'backprop_test4')\n",
    "runtest(backprop_test5, 'backprop_test5')"
   ]
  },
  {
   "cell_type": "code",
   "execution_count": null,
   "metadata": {
    "deletable": false,
    "editable": false,
    "nbgrader": {
     "checksum": "4bedf414569df520d6a69e116129df0a",
     "grade": true,
     "grade_id": "cell-backprop_test1",
     "locked": true,
     "points": 1,
     "schema_version": 1,
     "solution": false
    }
   },
   "outputs": [],
   "source": [
    "# Autograder Test Cell\n",
    "# backprop_test1\n"
   ]
  },
  {
   "cell_type": "code",
   "execution_count": null,
   "metadata": {
    "deletable": false,
    "editable": false,
    "nbgrader": {
     "checksum": "3b4cce51470bdbc79a48e52c6b0f8cb9",
     "grade": true,
     "grade_id": "cell-backprop_test2",
     "locked": true,
     "points": 1,
     "schema_version": 1,
     "solution": false
    }
   },
   "outputs": [],
   "source": [
    "# Autograder Test Cell\n",
    "# backprop_test2\n"
   ]
  },
  {
   "cell_type": "code",
   "execution_count": null,
   "metadata": {
    "deletable": false,
    "editable": false,
    "nbgrader": {
     "checksum": "8840bf7022634088a4cb5eec461fe537",
     "grade": true,
     "grade_id": "cell-backprop_test3",
     "locked": true,
     "points": 1,
     "schema_version": 1,
     "solution": false
    }
   },
   "outputs": [],
   "source": [
    "# Autograder Test Cell\n",
    "# backprop_test3\n"
   ]
  },
  {
   "cell_type": "code",
   "execution_count": null,
   "metadata": {
    "deletable": false,
    "editable": false,
    "nbgrader": {
     "checksum": "549a85e98e1858fab80323942f9871a7",
     "grade": true,
     "grade_id": "cell-backprop_test4",
     "locked": true,
     "points": 1,
     "schema_version": 1,
     "solution": false
    }
   },
   "outputs": [],
   "source": [
    "# Autograder Test Cell\n",
    "# backprop_test4\n"
   ]
  },
  {
   "cell_type": "code",
   "execution_count": null,
   "metadata": {
    "deletable": false,
    "editable": false,
    "nbgrader": {
     "checksum": "a5d5fe5aee99c985fc778fef5efe7b7b",
     "grade": true,
     "grade_id": "cell-backprop_test5",
     "locked": true,
     "points": 1,
     "schema_version": 1,
     "solution": false
    }
   },
   "outputs": [],
   "source": [
    "# Autograder Test Cell\n",
    "# backprop_test5\n"
   ]
  },
  {
   "cell_type": "markdown",
   "metadata": {
    "deletable": false,
    "editable": false,
    "nbgrader": {
     "checksum": "bd6539c0f7f310d04b4a29cc61d57520",
     "grade": false,
     "grade_id": "cell-5bea8cd4b42b1693",
     "locked": true,
     "schema_version": 1,
     "solution": false
    }
   },
   "source": [
    "<h3> Part Four: Training with Gradient Descent</h3>\n",
    "\n",
    "Run the cell below to train a ReLU Network for the task with Gradient Descent. Feel free to play around with the hyperparameters such learning rate, number of epochs, number of hidden layers, size of each hidden layers. "
   ]
  },
  {
   "cell_type": "code",
   "execution_count": 37,
   "metadata": {},
   "outputs": [
    {
     "name": "stdout",
     "output_type": "stream",
     "text": [
      "Elapsed time: 5.41s\n"
     ]
    },
    {
     "data": {
      "image/png": "[encoded data removed]",
      "text/plain": [
       "<Figure size 864x576 with 2 Axes>"
      ]
     },
     "metadata": {
      "needs_background": "light"
     },
     "output_type": "display_data"
    }
   ],
   "source": [
    "#generate data\n",
    "X, y = generate_data() # generate data\n",
    "\n",
    "\n",
    "# learning rate for Gradient Descent\n",
    "lr = 0.001\n",
    "\n",
    "# Number of epochs\n",
    "# one epoch - one full pass through the dataset\n",
    "M = 10000\n",
    "\n",
    "# keep track of the losses\n",
    "losses = np.zeros(M)\n",
    "t0 = time.time()\n",
    "\n",
    "# initialize a neural network with one hidden layer \n",
    "# Try varying the depth and width of the neural networks to see the effect\n",
    "\n",
    "W = initweights([2, 200, 1])\n",
    "W_init = [w.copy() for w in W]\n",
    "\n",
    "# Start training\n",
    "for i in range(M):\n",
    "    \n",
    "    # Do a forward pass\n",
    "    A, Z = forward_pass(W, X)\n",
    "    \n",
    "    # Calculate the loss\n",
    "    losses[i] = MSE(Z[-1].flatten(), y)\n",
    "    \n",
    "    # Calculate the loss using backprop\n",
    "    gradients = backprop(W, A, Z, y)\n",
    "    \n",
    "    # Update he parameters\n",
    "    for j in range(len(W)):\n",
    "        W[j] -= lr * gradients[j]\n",
    "t1 = time.time()\n",
    "print('Elapsed time: %.2fs' % (t1-t0))\n",
    "plot_results(X[:, 0], y, Z, losses)"
   ]
  },
  {
   "cell_type": "markdown",
   "metadata": {
    "deletable": false,
    "editable": false,
    "nbgrader": {
     "checksum": "07c3396007ff6c72f3d70aa521c6d146",
     "grade": false,
     "grade_id": "cell-9bdb6bd0723ab85d",
     "locked": true,
     "schema_version": 1,
     "solution": false
    }
   },
   "source": [
    "## Tensorflow\n",
    "\n",
    "[Tensorflow](https://www.tensorflow.org/) is a widely known Machine Learning library that provides classes and functions to create neural networks from scratch and train them using gradient descent (and its variants). The library also provides numerous [datasets](https://www.tensorflow.org/datasets), many of which are widely used in industry and academic research.\n",
    "    \n",
    "Most importantly, Tensorflow, and other Machine Learning libraries such as [Pytorch](https://pytorch.org/) and [MXNet](https://mxnet.apache.org/) , allow for \"[automatic differentiation](https://en.wikipedia.org/wiki/Automatic_differentiation)\". With this feature, the developer only needs to specify the neural network architecture (e.g. kind of layers, number of hidden units, activation functions etc.); the library performs backpropagation automatically---it computes gradients for the trainable weights of the network and applies them during training. This feature is extremely useful when the network design becomes complex and it becomes difficult to write backprop functions by hand."
   ]
  },
  {
   "cell_type": "markdown",
   "metadata": {
    "deletable": false,
    "editable": false,
    "nbgrader": {
     "checksum": "376c72c0ff8973c374cf4f0655c19e81",
     "grade": false,
     "grade_id": "cell-f73d8818a7efeefd",
     "locked": true,
     "schema_version": 1,
     "solution": false
    }
   },
   "source": [
    "### Training a model with Tensorflow\n",
    "\n",
    "In this section, we show you how to train a model with Tensorflow. The steps are similar to above:\n",
    "1. Define the model structure, describing the layers for forward propagation.\n",
    "2. Define the optimizer, i.e., the variant of gradient descent you want to use.\n",
    "3. Define the loss function to minimize.\n",
    "4. \"Fit\" the model on training data for $M$ epochs.\n",
    "\n",
    "The \"fitting\" process propagates the data forward in the network, computes the loss value, computes the gradients for the weights, and updates the weights for $M$ times."
   ]
  },
  {
   "cell_type": "code",
   "execution_count": 38,
   "metadata": {},
   "outputs": [
    {
     "name": "stdout",
     "output_type": "stream",
     "text": [
      "TF version: 2.6.2\n"
     ]
    }
   ],
   "source": [
    "import tensorflow as tf\n",
    "print('TF version: %s' % (tf.__version__))\n",
    "\n",
    "# Tensorflow by default uses float32 and expects data in that format. Since our data matrices X and y are in np.float64 format, we specify float64 here.\n",
    "tf.keras.backend.set_floatx('float64')"
   ]
  },
  {
   "cell_type": "code",
   "execution_count": 39,
   "metadata": {},
   "outputs": [],
   "source": [
    "# 1. Define the model structure\n",
    "model = tf.keras.Sequential([\n",
    "    tf.keras.layers.Dense(units=200, input_dim=2, activation='relu', use_bias=False, kernel_initializer='random_normal'),\n",
    "    tf.keras.layers.Dense(units=1, activation=None, use_bias=False, kernel_initializer='random_normal'),\n",
    "])"
   ]
  },
  {
   "cell_type": "markdown",
   "metadata": {
    "deletable": false,
    "editable": false,
    "nbgrader": {
     "checksum": "675fcbc4f7667ba4d5f7650428bf3957",
     "grade": false,
     "grade_id": "cell-ab56221baa2b0363",
     "locked": true,
     "schema_version": 1,
     "solution": false
    }
   },
   "source": [
    "Let's break this down. Our network should comprise of 3 layers: [input, hidden, output]. \n",
    "\n",
    "- The input layer should have 2 dimensions to match the feature dimension of each of the 50 training points in $\\mathbf{X}$.\n",
    "- Using `Dense` with 200 units, we specify a fully-connected layer with 200 hidden units. This is equivalent to multiplying 2-dimensional input with $\\mathbf{W}_0$ of shape $2 \\times 200$. We also specify the `ReLU` activation function.\n",
    "- Then we specify another `Dense` layer with 1 unit, which is equivalent to multiplying the 200-dimensional hidden layer vector with $\\mathbf{W}_1$ of shape $200 \\times 1$. Here we don't specify any activation function as the final $\\mathbf{Z}_2$ is just $\\mathbf{A}_2$.\n",
    "\n",
    "To emulate the network in the exercise above, we initialize the weights of the Tensorflow network with random normal values. Since $\\mathbf{X}$ already contains a bias value, we avoid bias terms in the network."
   ]
  },
  {
   "cell_type": "code",
   "execution_count": 40,
   "metadata": {},
   "outputs": [],
   "source": [
    "# 2. Define the optimizer\n",
    "optimizer = tf.keras.optimizers.SGD(learning_rate=lr)\n",
    "training_batch_size = len(y)"
   ]
  },
  {
   "cell_type": "markdown",
   "metadata": {
    "deletable": false,
    "editable": false,
    "nbgrader": {
     "checksum": "48cea7e28ae52788d20937abf4d45680",
     "grade": false,
     "grade_id": "cell-95848aaf5d9a20cc",
     "locked": true,
     "schema_version": 1,
     "solution": false
    }
   },
   "source": [
    "Tensorflow does not provide vanilla gradient descent. Instead, the basic variant it provides is called [Stochastic Gradient Descent (SGD)](https://en.wikipedia.org/wiki/Stochastic_gradient_descent). To match our implementation above, we can use SGD to behave like vanilla gradient descent by setting the `training_batch_size` to the number of data points.\n",
    "\n",
    "What does this do? Although the loss is calculated using all data points, SGD computes the gradients of weights using `training_batch_size` number of data points. So, when the `training_batch_size` is smaller than the number of training data points, SGD _approximates_ the gradients of weights (this is done for various reasons, but we will not discuss it here). To compute exact gradients and match our implementation in the previous section, we just set the `training_batch_size` to number of training points `len(y)`. "
   ]
  },
  {
   "cell_type": "code",
   "execution_count": 41,
   "metadata": {},
   "outputs": [
    {
     "name": "stdout",
     "output_type": "stream",
     "text": [
      "Elapsed time: 17.03s\n"
     ]
    }
   ],
   "source": [
    "# 3. Define loss function\n",
    "loss = tf.keras.losses.MeanSquaredError()\n",
    "\n",
    "t0 = time.time()\n",
    "\n",
    "# Attach the optimizer and loss function to the model\n",
    "model.compile(optimizer=optimizer,loss=loss)\n",
    "\n",
    "# 4. Fit the model on training data\n",
    "history = model.fit(\n",
    "    X,\n",
    "    y,\n",
    "    epochs=M,\n",
    "    batch_size=training_batch_size,\n",
    "    verbose=0, # no progress bar\n",
    ")\n",
    "t1 = time.time()\n",
    "print('Elapsed time: %.2fs' % (t1-t0))"
   ]
  },
  {
   "cell_type": "markdown",
   "metadata": {
    "deletable": false,
    "editable": false,
    "nbgrader": {
     "checksum": "3c20feea0f6b291c7b9d0aee075aa2df",
     "grade": false,
     "grade_id": "cell-28401d08d2f6d741",
     "locked": true,
     "schema_version": 1,
     "solution": false
    }
   },
   "source": [
    "It is possible that the Tensorflow model takes much longer to train that our initial implementation took. This is because of the massive overhead Tensorflow requires to setup and train the model. However, as the number of training points increases and the network becomes more complex, Tensorflow (and other Machine Learning libraries) scale much better than pure-Numpy implementations---even better when you use a GPU. For this reason, developers and researchers almost always use libraries like Tensorflow and Pytorch to train networks."
   ]
  },
  {
   "cell_type": "code",
   "execution_count": 42,
   "metadata": {},
   "outputs": [
    {
     "data": {
      "image/png": "[encoded data removed]",
      "text/plain": [
       "<Figure size 864x576 with 2 Axes>"
      ]
     },
     "metadata": {
      "needs_background": "light"
     },
     "output_type": "display_data"
    }
   ],
   "source": [
    "def tf_activations(model, X):\n",
    "    \"\"\"\n",
    "    function tf_activations(model, X)\n",
    "    \n",
    "    INPUT:\n",
    "    model - Tensorflow model\n",
    "    X - nxd matrix. Each row is an input vector\n",
    "    \n",
    "    OUTPUTS:\n",
    "    Z - a list of matrices (of length L) that stores result of transition function at each layer \n",
    "    \"\"\"\n",
    "    inputs = [model.input]\n",
    "    outputs = [layer.output for layer in model.layers]             # all layer outputs\n",
    "    get_activations = tf.keras.backend.function(inputs, outputs)   # evaluation function\n",
    "    \n",
    "    Z = [X] + get_activations([X])\n",
    "    return Z\n",
    "\n",
    "losses = history.history['loss']\n",
    "Z = tf_activations(model, X)\n",
    "plot_results(X[:, 0], y, Z, losses)"
   ]
  },
  {
   "cell_type": "markdown",
   "metadata": {},
   "source": [
    "Don't worry if these plots don't match the ones above! The Numpy and Tensorflow implementations had different initial weights for the network. It is possible to obtain matching plots by specifying initial weights in Tensorflow; however, the approach is a little more involved and we will leave it to the curious reader."
   ]
  }
 ],
 "metadata": {
  "kernelspec": {
   "display_name": "Python 3",
   "language": "python",
   "name": "python3"
  },
  "language_info": {
   "codemirror_mode": {
    "name": "ipython",
    "version": 3
   },
   "file_extension": ".py",
   "mimetype": "text/x-python",
   "name": "python",
   "nbconvert_exporter": "python",
   "pygments_lexer": "ipython3",
   "version": "3.6.8"
  }
 },
 "nbformat": 4,
 "nbformat_minor": 4
}
